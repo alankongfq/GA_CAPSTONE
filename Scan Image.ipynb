{
 "cells": [
  {
   "cell_type": "code",
   "execution_count": 1,
   "metadata": {},
   "outputs": [
    {
     "name": "stderr",
     "output_type": "stream",
     "text": [
      "Using TensorFlow backend.\n"
     ]
    }
   ],
   "source": [
    "## standard library\n",
    "import numpy as np\n",
    "import matplotlib.pyplot as plt\n",
    "import seaborn as sns\n",
    "import scipy as sp\n",
    "import pandas as pd\n",
    "import time\n",
    "import json\n",
    "import pickle\n",
    "import os\n",
    "\n",
    "#Image processing packages\n",
    "import cv2\n",
    "from PIL import Image\n",
    "\n",
    "## Keras + Tensorflow\n",
    "from keras.models import load_model\n",
    "from keras.models import Sequential\n",
    "from keras.utils import np_utils\n",
    "import tensorflow as tf\n",
    "\n",
    "from sklearn.utils import shuffle\n",
    "\n",
    "%matplotlib inline"
   ]
  },
  {
   "cell_type": "markdown",
   "metadata": {},
   "source": [
    "## Used for conducting test on full satellite image. No training of model. Model is manually pick and run in this notebook"
   ]
  },
  {
   "cell_type": "markdown",
   "metadata": {},
   "source": [
    "Description of the below function are found in Capstone Part 4.ipynb\n",
    "\n",
    "Slight modification to functions written in Capstone Part 4.ipynb\n",
    "\n",
    "Code here is keep short for easy transfer to a python script."
   ]
  },
  {
   "cell_type": "code",
   "execution_count": 2,
   "metadata": {},
   "outputs": [],
   "source": [
    "def sliding_window(image, stepsize , winsize):\n",
    "    for y in range(0, image.shape[0], stepsize[0]):\n",
    "        for x in range(0, image.shape[1], stepsize[1]):\n",
    "            yield (x, y, x + winsize[1], y + winsize[0], image[y:y + winsize[0], x:x + winsize[1]])"
   ]
  },
  {
   "cell_type": "code",
   "execution_count": 3,
   "metadata": {},
   "outputs": [],
   "source": [
    "def non_max_suppression(bound_box, area_overlap_threshold):\n",
    "    boxes = np.array(bound_box)\n",
    "    if len(boxes) == 0:\n",
    "        return []\n",
    "    pick = []\n",
    "    x1 = boxes[:,0]\n",
    "    y1 = boxes[:,1]\n",
    "    x2 = boxes[:,2]\n",
    "    y2 = boxes[:,3]\n",
    "    area = 6400.0\n",
    "    ind = np.argsort(y2)\n",
    "    \n",
    "    while len(ind) > 0:\n",
    "        end = len(ind) - 1\n",
    "        i = ind[end] \n",
    "        pick.append(i) \n",
    "        suppress = [end]\n",
    "        \n",
    "        for coord in range(0, end):\n",
    "            j = ind[coord]\n",
    "            xx1 = max(x1[i], x1[j])\n",
    "            yy1 = max(y1[i], y1[j])\n",
    "            xx2 = min(x2[i], x2[j])\n",
    "            yy2 = min(y2[i], y2[j])\n",
    "        \n",
    "            w = max(0, xx2 - xx1 + 1)\n",
    "            h = max(0, yy2 - yy1 + 1)\n",
    "\n",
    "            overlap = (w * h) / area\n",
    "        \n",
    "            if overlap > area_overlap_threshold:\n",
    "                suppress.append(coord)\n",
    "\n",
    "        ind = np.delete(ind, suppress)\n",
    " \n",
    "    return boxes[pick]"
   ]
  },
  {
   "cell_type": "code",
   "execution_count": 10,
   "metadata": {},
   "outputs": [],
   "source": [
    "def scan_image(satimage_in, satimage_out, model, dir_window, dir_gif, dir_results, winH=80, winW=80, stepY=10, stepX=10):\n",
    "    \n",
    "    ## change to a function for scan image instead of just code to allow quick change of model\n",
    "    \n",
    "    ship_pred_class = [] \n",
    "    ship_img = [] \n",
    "    ship_cooridinate = [] \n",
    "\n",
    "    i = 0\n",
    "    \n",
    "    print('-------------------')\n",
    "    print('Scan image start')\n",
    "    print('-------------------')\n",
    "    \n",
    "    scan_start = time.time()\n",
    "    \n",
    "    for (x1, y1, x2, y2, window) in sliding_window(satimage_in, stepsize=(stepY,stepX), winsize=(winH, winW)):\n",
    "    \n",
    "        if window.shape[0] != winH or window.shape[1] != winW:\n",
    "            continue\n",
    "\n",
    "        target_region = np.expand_dims(window, axis=0)\n",
    "        classes = model.predict_classes(target_region, batch_size=1, verbose=0)\n",
    "    \n",
    "        if classes[0] == 1:\n",
    "            \n",
    "            #Don't save window image classified as ship\n",
    "            \n",
    "            #cv2.imwrite(dir_window + \"rimg_{}.png\".format(i), window)\n",
    "        \n",
    "            ship_pred_class.append(classes[0])\n",
    "            ship_img.append(window)\n",
    "            ship_cooridinate.append((x1,y1,x2,y2))\n",
    "        \n",
    "            cv2.rectangle(satimage_out, (x1, y1), (x1 + winW, y1 + winH), (0, 255, 0), 2) \n",
    "            \n",
    "            #Don't save window image classified as full sat image for gif\n",
    "            \n",
    "            #cv2.imwrite(dir_gif + \"img_{}.png\".format(i), satimage_out)\n",
    "                \n",
    "            #i += 1\n",
    "            \n",
    "            # This is for debugging purpose to see visually if the code is working properly\n",
    "        \n",
    "            #cv2.waitKey(1)\n",
    "            #time.sleep(0.025)\n",
    "        #else:\n",
    "            #cv2.waitKey(1)\n",
    "            #time.sleep(0.025)\n",
    "\n",
    "    print('Save window image (classified as ship) and gif image')\n",
    "    \n",
    "    \n",
    "    ## Change write output directory for each test case\n",
    "    \n",
    "    cv2.imwrite(dir_results + \"detectedtest4.png\", satimage_out)\n",
    "    cv2.destroyAllWindows()\n",
    "                          \n",
    "    scan_end = time.time()\n",
    "    scan_time = scan_end - scan_start\n",
    "\n",
    "    print(\"scan time takes = {} s\".format(scan_time))\n",
    "\n",
    "    print('-------------------')\n",
    "    \n",
    "    return ship_pred_class, ship_img, ship_cooridinate"
   ]
  },
  {
   "cell_type": "markdown",
   "metadata": {},
   "source": [
    "## 4 test images\n",
    "    1) Original sfbat_1.png (sometime taken around September according to Kaggle competition starter)\n",
    "    2) Same location in SFbay but on 2017-11-01\n",
    "    3) Long Beach location on 2017-10-18\n",
    "    4) Long Beach location on 2017-10-17 "
   ]
  },
  {
   "cell_type": "markdown",
   "metadata": {},
   "source": [
    "Purpose of this script is to collect final satellite image results with bounding box drawn on it.\n",
    "\n",
    "Refresh Kernel for each run of images to prevent plotting over the same image \n",
    "\n",
    "(opencv2 does not refresh memory for cv2.imwrite if run from jupyter notebook)"
   ]
  },
  {
   "cell_type": "markdown",
   "metadata": {},
   "source": [
    "## 1) Original Test Set (sometime around September)"
   ]
  },
  {
   "cell_type": "code",
   "execution_count": null,
   "metadata": {
    "scrolled": true
   },
   "outputs": [],
   "source": [
    "satimage_in = cv2.imread('./ships-in-satellite-imagery/test_v2/sfbay_1.png')\n",
    "satimage_out = cv2.imread('./ships-in-satellite-imagery/test_v2/sfbay_1.png')\n",
    "satimage_nms = cv2.imread('./ships-in-satellite-imagery/test_v2/sfbay_1.png')\n",
    "\n",
    "\n",
    "model = load_model('./cnn_model/classiferCNN/model11.h5')\n",
    "\n",
    "(winH, winW) = (80, 80)\n",
    "(stepY,stepX) = (10, 10)\n",
    "\n",
    "dir_window = './results/capstoneP5/winimg1/'\n",
    "dir_gif = './results/capstoneP5/gif1/'\n",
    "dir_results = './results/capstoneP5/final_result/'\n",
    "\n",
    "print('---------------------------')\n",
    "print('Scan Sat Image')\n",
    "print('---------------------------')\n",
    "\n",
    "ship_pred_class, ship_img, ship_cooridinate = scan_image(satimage_in, satimage_out, model, dir_window, dir_gif, dir_results)\n",
    "\n",
    "print('---------------------------')\n",
    "print('NMS')\n",
    "print('---------------------------')\n",
    "\n",
    "picked_box = non_max_suppression(ship_cooridinate, area_overlap_threshold = 0.5)\n",
    "\n",
    "for (bbx1, bby1, bbx2, bby2) in picked_box:\n",
    "    cv2.rectangle(satimage_nms, (bbx1, bby1), (bbx2,bby2), (0, 0, 255), 2) \n",
    "\n",
    "        \n",
    "cv2.imwrite(\"./results/capstoneP5/final_result/detected11_NMS.png\", satimage_nms)\n",
    "\n",
    "print('Save NMS results')\n"
   ]
  },
  {
   "cell_type": "code",
   "execution_count": 5,
   "metadata": {},
   "outputs": [],
   "source": [
    "## Save data of images classified as ship"
   ]
  },
  {
   "cell_type": "code",
   "execution_count": null,
   "metadata": {},
   "outputs": [],
   "source": [
    "predict_ship1 = {'ship_pred_class': ship_pred_class, 'ship_img': ship_img, 'ship_cooridinate': ship_cooridinate}\n",
    "    \n",
    "with open('./results/capstoneP5/final_result/predict_ship11.pkl', 'wb') as file_name:\n",
    "    pickle.dump(predict_ship1, file_name)"
   ]
  },
  {
   "cell_type": "code",
   "execution_count": null,
   "metadata": {},
   "outputs": [],
   "source": []
  },
  {
   "cell_type": "markdown",
   "metadata": {},
   "source": [
    "## 2) TEST IMAGE ON 2017-11-01 SF Bay"
   ]
  },
  {
   "cell_type": "code",
   "execution_count": 5,
   "metadata": {},
   "outputs": [
    {
     "name": "stdout",
     "output_type": "stream",
     "text": [
      "---------------------------\n",
      "Scan Sat Image\n",
      "---------------------------\n",
      "-------------------\n",
      "Scan image start\n",
      "-------------------\n",
      "Save window image (classified as ship) and gif image\n",
      "scan time takes = 256.95370721817017 s\n",
      "-------------------\n",
      "---------------------------\n",
      "NMS\n",
      "---------------------------\n",
      "Save NMS results\n"
     ]
    }
   ],
   "source": [
    "satimage_in = cv2.imread('./ships-in-satellite-imagery/test_v2/20171101.png')\n",
    "satimage_out = cv2.imread('./ships-in-satellite-imagery/test_v2/20171101.png')\n",
    "satimage_nms = cv2.imread('./ships-in-satellite-imagery/test_v2/20171101.png')\n",
    "\n",
    "## Model 9 best model to predict another time\n",
    "\n",
    "model = load_model('./cnn_model/classiferCNN/model9.h5')\n",
    "\n",
    "(winH, winW) = (80, 80)\n",
    "(stepY,stepX) = (10, 10)\n",
    "\n",
    "dir_window = './results/capstoneP5/winimg1/'\n",
    "dir_gif = './results/capstoneP5/gif1/'\n",
    "dir_results = './results/capstoneP5/final_result/'\n",
    "\n",
    "print('---------------------------')\n",
    "print('Scan Sat Image')\n",
    "print('---------------------------')\n",
    "\n",
    "ship_pred_class, ship_img, ship_cooridinate = scan_image(satimage_in, satimage_out, model, dir_window, dir_gif, dir_results)\n",
    "\n",
    "print('---------------------------')\n",
    "print('NMS')\n",
    "print('---------------------------')\n",
    "\n",
    "picked_box = non_max_suppression(ship_cooridinate, area_overlap_threshold = 0.5)\n",
    "\n",
    "for (bbx1, bby1, bbx2, bby2) in picked_box:\n",
    "    cv2.rectangle(satimage_nms, (bbx1, bby1), (bbx2,bby2), (0, 0, 255), 2) \n",
    "\n",
    "        \n",
    "cv2.imwrite(\"./results/capstoneP5/final_result/detectedtest2_NMS.png\", satimage_nms)\n",
    "\n",
    "print('Save NMS results')"
   ]
  },
  {
   "cell_type": "code",
   "execution_count": 4,
   "metadata": {},
   "outputs": [],
   "source": [
    "## Save data of images classified as ship"
   ]
  },
  {
   "cell_type": "code",
   "execution_count": 6,
   "metadata": {},
   "outputs": [],
   "source": [
    "predict_ship2 = {'ship_pred_class': ship_pred_class, 'ship_img': ship_img, 'ship_cooridinate': ship_cooridinate}\n",
    "    \n",
    "with open('./results/capstoneP5/final_result/predict_ship_test2.pkl', 'wb') as file_name:\n",
    "    pickle.dump(predict_ship2, file_name)"
   ]
  },
  {
   "cell_type": "code",
   "execution_count": null,
   "metadata": {},
   "outputs": [],
   "source": []
  },
  {
   "cell_type": "markdown",
   "metadata": {},
   "source": [
    "## 3) TEST IMAGE ON 2017-10-18 Long Beach"
   ]
  },
  {
   "cell_type": "code",
   "execution_count": 8,
   "metadata": {},
   "outputs": [
    {
     "name": "stdout",
     "output_type": "stream",
     "text": [
      "---------------------------\n",
      "Scan Sat Image\n",
      "---------------------------\n",
      "-------------------\n",
      "Scan image start\n",
      "-------------------\n",
      "Save window image (classified as ship) and gif image\n",
      "scan time takes = 141.901052236557 s\n",
      "-------------------\n",
      "---------------------------\n",
      "NMS\n",
      "---------------------------\n",
      "Save NMS results\n"
     ]
    }
   ],
   "source": [
    "satimage_in = cv2.imread('./ships-in-satellite-imagery/test_v2/20171018.png')\n",
    "satimage_out = cv2.imread('./ships-in-satellite-imagery/test_v2/20171018.png')\n",
    "satimage_nms = cv2.imread('./ships-in-satellite-imagery/test_v2/20171018.png')\n",
    "\n",
    "## Model 9 best model to predict another time\n",
    "\n",
    "model = load_model('./cnn_model/classiferCNN/model9.h5')\n",
    "\n",
    "(winH, winW) = (80, 80)\n",
    "(stepY,stepX) = (10, 10)\n",
    "\n",
    "dir_window = './results/capstoneP5/winimg1/'\n",
    "dir_gif = './results/capstoneP5/gif1/'\n",
    "dir_results = './results/capstoneP5/final_result/'\n",
    "\n",
    "print('---------------------------')\n",
    "print('Scan Sat Image')\n",
    "print('---------------------------')\n",
    "\n",
    "ship_pred_class, ship_img, ship_cooridinate = scan_image(satimage_in, satimage_out, model, dir_window, dir_gif, dir_results)\n",
    "\n",
    "print('---------------------------')\n",
    "print('NMS')\n",
    "print('---------------------------')\n",
    "\n",
    "picked_box = non_max_suppression(ship_cooridinate, area_overlap_threshold = 0.5)\n",
    "\n",
    "for (bbx1, bby1, bbx2, bby2) in picked_box:\n",
    "    cv2.rectangle(satimage_nms, (bbx1, bby1), (bbx2,bby2), (0, 0, 255), 2) \n",
    "\n",
    "        \n",
    "cv2.imwrite(\"./results/capstoneP5/final_result/detectedtest3_NMS.png\", satimage_nms)\n",
    "\n",
    "print('Save NMS results')"
   ]
  },
  {
   "cell_type": "code",
   "execution_count": 2,
   "metadata": {},
   "outputs": [],
   "source": [
    "## Save data of images classified as ship"
   ]
  },
  {
   "cell_type": "code",
   "execution_count": 9,
   "metadata": {},
   "outputs": [],
   "source": [
    "predict_ship3 = {'ship_pred_class': ship_pred_class, 'ship_img': ship_img, 'ship_cooridinate': ship_cooridinate}\n",
    "    \n",
    "with open('./results/capstoneP5/final_result/predict_ship_test3.pkl', 'wb') as file_name:\n",
    "    pickle.dump(predict_ship3, file_name)"
   ]
  },
  {
   "cell_type": "code",
   "execution_count": null,
   "metadata": {},
   "outputs": [],
   "source": []
  },
  {
   "cell_type": "markdown",
   "metadata": {},
   "source": [
    "## 4) TEST IMAGE ON 2017-10-17 Long Beach"
   ]
  },
  {
   "cell_type": "code",
   "execution_count": 11,
   "metadata": {},
   "outputs": [
    {
     "name": "stdout",
     "output_type": "stream",
     "text": [
      "---------------------------\n",
      "Scan Sat Image\n",
      "---------------------------\n",
      "-------------------\n",
      "Scan image start\n",
      "-------------------\n",
      "Save window image (classified as ship) and gif image\n",
      "scan time takes = 291.79830527305603 s\n",
      "-------------------\n",
      "---------------------------\n",
      "NMS\n",
      "---------------------------\n",
      "Save NMS results\n"
     ]
    }
   ],
   "source": [
    "satimage_in = cv2.imread('./ships-in-satellite-imagery/test_v2/20171017.png')\n",
    "satimage_out = cv2.imread('./ships-in-satellite-imagery/test_v2/20171017.png')\n",
    "satimage_nms = cv2.imread('./ships-in-satellite-imagery/test_v2/20171017.png')\n",
    "\n",
    "## Model 9 best model to predict another time\n",
    "\n",
    "model = load_model('./cnn_model/classiferCNN/model9.h5')\n",
    "\n",
    "(winH, winW) = (80, 80)\n",
    "(stepY,stepX) = (10, 10)\n",
    "\n",
    "dir_window = './results/capstoneP5/winimg1/'\n",
    "dir_gif = './results/capstoneP5/gif1/'\n",
    "dir_results = './results/capstoneP5/final_result/'\n",
    "\n",
    "print('---------------------------')\n",
    "print('Scan Sat Image')\n",
    "print('---------------------------')\n",
    "\n",
    "ship_pred_class, ship_img, ship_cooridinate = scan_image(satimage_in, satimage_out, model, dir_window, dir_gif, dir_results)\n",
    "\n",
    "print('---------------------------')\n",
    "print('NMS')\n",
    "print('---------------------------')\n",
    "\n",
    "picked_box = non_max_suppression(ship_cooridinate, area_overlap_threshold = 0.5)\n",
    "\n",
    "for (bbx1, bby1, bbx2, bby2) in picked_box:\n",
    "    cv2.rectangle(satimage_nms, (bbx1, bby1), (bbx2,bby2), (0, 0, 255), 2) \n",
    "\n",
    "        \n",
    "cv2.imwrite(\"./results/capstoneP5/final_result/detectedtest4_NMS.png\", satimage_nms)\n",
    "\n",
    "print('Save NMS results')"
   ]
  },
  {
   "cell_type": "code",
   "execution_count": 3,
   "metadata": {},
   "outputs": [],
   "source": [
    "## Save data of images classified as ship"
   ]
  },
  {
   "cell_type": "code",
   "execution_count": 13,
   "metadata": {},
   "outputs": [],
   "source": [
    "predict_ship4 = {'ship_pred_class': ship_pred_class, 'ship_img': ship_img, 'ship_cooridinate': ship_cooridinate}\n",
    "    \n",
    "with open('./results/capstoneP5/final_result/predict_ship_test4.pkl', 'wb') as file_name:\n",
    "    pickle.dump(predict_ship4, file_name)"
   ]
  },
  {
   "cell_type": "code",
   "execution_count": null,
   "metadata": {},
   "outputs": [],
   "source": []
  }
 ],
 "metadata": {
  "kernelspec": {
   "display_name": "Python 3",
   "language": "python",
   "name": "python3"
  },
  "language_info": {
   "codemirror_mode": {
    "name": "ipython",
    "version": 3
   },
   "file_extension": ".py",
   "mimetype": "text/x-python",
   "name": "python",
   "nbconvert_exporter": "python",
   "pygments_lexer": "ipython3",
   "version": "3.5.4"
  }
 },
 "nbformat": 4,
 "nbformat_minor": 2
}
